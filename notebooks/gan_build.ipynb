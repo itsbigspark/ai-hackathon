{
 "cells": [
  {
   "cell_type": "code",
   "execution_count": 6,
   "metadata": {},
   "outputs": [
    {
     "name": "stderr",
     "output_type": "stream",
     "text": [
      "/Users/tombutler/miniforge3/envs/jupyter-lab/lib/python3.10/site-packages/sklearn/preprocessing/_encoders.py:868: FutureWarning: `sparse` was renamed to `sparse_output` in version 1.2 and will be removed in 1.4. `sparse_output` is ignored unless you leave `sparse` to its default value.\n",
      "  warnings.warn(\n"
     ]
    }
   ],
   "source": [
    "import pandas as pd\n",
    "import torch\n",
    "import torch.nn as nn\n",
    "import torch.optim as optim\n",
    "import numpy as np\n",
    "from sklearn.preprocessing import OneHotEncoder\n",
    "from sklearn.impute import SimpleImputer\n",
    "\n",
    "# Load the Titanic dataset\n",
    "data = pd.read_csv(\"../data/train.csv\")\n",
    "\n",
    "# Preprocess the data\n",
    "data = data.drop(columns=[\"Name\", \"Ticket\", \"Cabin\", \"PassengerId\", \"Sex\"])\n",
    "data = data.dropna()\n",
    "data[\"Embarked\"] = data[\"Embarked\"].astype(\"category\")\n",
    "cat_cols = [col for col in data.columns if data[col].dtype.name == \"category\"]\n",
    "enc = OneHotEncoder(sparse=False)\n",
    "cat_data = enc.fit_transform(data[cat_cols])\n",
    "data = data.drop(columns=cat_cols)\n",
    "data = np.concatenate((data.values, cat_data), axis=1)"
   ]
  },
  {
   "cell_type": "code",
   "execution_count": 7,
   "metadata": {},
   "outputs": [],
   "source": [
    "# Impute missing values\n",
    "imputer = SimpleImputer(strategy=\"median\")\n",
    "data = imputer.fit_transform(data)"
   ]
  },
  {
   "cell_type": "code",
   "execution_count": 9,
   "metadata": {},
   "outputs": [],
   "source": [
    "# Normalize the data\n",
    "data = (data - np.mean(data, axis=0)) / np.std(data, axis=0)"
   ]
  },
  {
   "cell_type": "code",
   "execution_count": 10,
   "metadata": {},
   "outputs": [],
   "source": [
    "# Define the generator\n",
    "class Generator(nn.Module):\n",
    "    def __init__(self, input_dim, output_dim):\n",
    "        super(Generator, self).__init__()\n",
    "        self.fc1 = nn.Linear(input_dim, 64)\n",
    "        self.fc2 = nn.Linear(64, 128)\n",
    "        self.fc3 = nn.Linear(128, output_dim)\n",
    "        self.relu = nn.ReLU()\n",
    "        self.sigmoid = nn.Sigmoid()\n",
    "        \n",
    "    def forward(self, z, c):\n",
    "        x = torch.cat((z, c), dim=1)\n",
    "        x = self.relu(self.fc1(x))\n",
    "        x = self.relu(self.fc2(x))\n",
    "        x = self.sigmoid(self.fc3(x))\n",
    "        return x"
   ]
  },
  {
   "cell_type": "code",
   "execution_count": 11,
   "metadata": {},
   "outputs": [],
   "source": [
    "# Define the discriminator\n",
    "class Discriminator(nn.Module):\n",
    "    def __init__(self, input_dim):\n",
    "        super(Discriminator, self).__init__()\n",
    "        self.fc1 = nn.Linear(input_dim, 128)\n",
    "        self.dropout1 = nn.Dropout(0.3)\n",
    "        self.fc2 = nn.Linear(128, 64)\n",
    "        self.dropout2 = nn.Dropout(0.3)\n",
    "        self.fc3 = nn.Linear(64, 1)\n",
    "        self.relu = nn.ReLU()\n",
    "        self.sigmoid = nn.Sigmoid()\n",
    "        \n",
    "    def forward(self, x):\n",
    "        x = self.relu(self.fc1(x))\n",
    "        x = self.dropout1(x)\n",
    "        x = self.relu(self.fc2(x))\n",
    "        x = self.dropout2(x)\n",
    "        x = self.sigmoid(self.fc3(x))\n",
    "        return x"
   ]
  },
  {
   "cell_type": "code",
   "execution_count": 12,
   "metadata": {},
   "outputs": [],
   "source": [
    "# Define the GAN model\n",
    "class GAN(nn.Module):\n",
    "    def __init__(self, generator, discriminator):\n",
    "        super(GAN, self).__init__()\n",
    "        self.generator = generator\n",
    "        self.discriminator = discriminator\n",
    "        \n",
    "    def forward(self, z, c):\n",
    "        x = self.generator(z, c)\n",
    "        return self.discriminator(x)\n",
    "\n",
    "# Define the loss functions\n",
    "bce_loss = nn.BCELoss()"
   ]
  },
  {
   "cell_type": "code",
   "execution_count": 13,
   "metadata": {},
   "outputs": [],
   "source": [
    "def generator_loss(fake_output):\n",
    "    return bce_loss(fake_output, torch.ones_like(fake_output))\n",
    "\n",
    "def discriminator_loss(real_output, fake_output):\n",
    "    real_loss = bce_loss(real_output, torch.ones_like(real_output))\n",
    "    fake_loss = bce_loss(fake_output, torch.zeros_like(fake_output))\n",
    "    total_loss = real_loss + fake_loss\n",
    "    return total_loss"
   ]
  },
  {
   "cell_type": "code",
   "execution_count": 15,
   "metadata": {
    "tags": []
   },
   "outputs": [],
   "source": [
    "# # Define the optimizer\n",
    "# lr = 1e-4\n",
    "# beta1 = 0.5\n",
    "# beta2 = 0.999\n",
    "# optimizer_G = optim.Adam(generator.parameters(), lr=lr, betas=(beta1, beta2))\n",
    "# optimizer_D = optim.Adam(discriminator.parameters(), lr=lr, betas=(beta1, beta2))\n",
    "\n",
    "# # Define the training loop\n",
    "# def train_gan(data, generator, discriminator, gan, epochs, batch_size, categorical_cols=[]):\n",
    "#     enc = OneHotEncoder(sparse=False)\n",
    "#     cat_cols = np.array(categorical_cols)\n",
    "#     cat_dims = [data[:,col].max()+1 for col in cat_cols]\n",
    "#     z_dim = 100\n",
    "#     for epoch in range(epochs):\n",
    "#         for i in range(len(data) // batch_size):\n",
    "#             # Train the discriminator\n",
    "#             real_data = torch.tensor(data[i * batch_size : (i+1) * batch_size]).float()\n",
    "#             real_data[:,cat_cols] = enc.fit_transform(real_data[:,cat_cols].long())\n",
    "#             noise = torch.randn(batch_size, z_dim)\n",
    "#             c = torch.zeros(batch_size, sum(cat_dims)).scatter"
   ]
  },
  {
   "cell_type": "code",
   "execution_count": 16,
   "metadata": {
    "tags": []
   },
   "outputs": [],
   "source": [
    "# Set the device for training\n",
    "device = torch.device(\"cuda:0\" if torch.cuda.is_available() else \"cpu\")\n",
    "\n",
    "# Set the hyperparameters\n",
    "batch_size = 128\n",
    "latent_dim = 32\n",
    "num_categories = cat_data.shape[1]\n",
    "num_epochs = 100\n",
    "num_batches = int(data.shape[0] / batch_size)\n",
    "\n",
    "# Initialize the models\n",
    "generator = Generator(input_dim=latent_dim+num_categories, output_dim=data.shape[1])\n",
    "discriminator = Discriminator(input_dim=data.shape[1])\n",
    "gan = GAN(generator, discriminator)\n",
    "\n",
    "# Move the models to the device\n",
    "generator.to(device)\n",
    "discriminator.to(device)\n",
    "gan.to(device)\n",
    "\n",
    "# Define the optimizer\n",
    "g_optimizer = optim.Adam(generator.parameters(), lr=lr, betas=(beta1, 0.999))\n",
    "d_optimizer = optim.Adam(discriminator.parameters(), lr=lr, betas=(beta1, 0.999))\n",
    "\n",
    "# Define the data loader\n",
    "data_tensor = torch.tensor(data, dtype=torch.float32)\n",
    "dataset = torch.utils.data.TensorDataset(data_tensor)\n",
    "loader = torch.utils.data.DataLoader(dataset, batch_size=batch_size, shuffle=True)"
   ]
  },
  {
   "cell_type": "code",
   "execution_count": 18,
   "metadata": {
    "tags": []
   },
   "outputs": [],
   "source": [
    "# Train the models\n",
    "for epoch in range(num_epochs):\n",
    "    for batch_idx, (real_data,) in enumerate(loader):\n",
    "        # Train the discriminator on real data\n",
    "        real_data = real_data.to(device)\n",
    "        real_labels = torch.ones(real_data.shape[0], 1).to(device)\n",
    "        fake_labels = torch.zeros(real_data.shape[0], 1).to(device)\n",
    "        z = torch.randn(real_data.shape[0], latent_dim).to(device)\n",
    "        c = torch.randint(0, 2, (real_data.shape[0], num_categories)).float().to(device)\n",
    "        fake_data = generator(z, c).detach()\n",
    "        real_output = discriminator(real_data)\n",
    "        fake_output = discriminator(fake_data)\n",
    "        d_loss = discriminator_loss(real_output, fake_output)\n",
    "        discriminator.zero_grad()\n",
    "        d_loss.backward()\n",
    "        d_optimizer.step()\n",
    "\n",
    "        # Train the generator to fool the discriminator\n",
    "        z = torch.randn(real_data.shape[0], latent_dim).to(device)\n",
    "        c = torch.randint(0, 2, (real_data.shape[0], num_categories)).float().to(device)\n",
    "        fake_data = generator(z, c)\n",
    "        fake_output = discriminator(fake_data)\n",
    "        g_loss = generator_loss(fake_output)\n",
    "        generator.zero_grad()\n",
    "        g_loss.backward()\n",
    "        g_optimizer.step()\n",
    "\n",
    "        # Print the loss\n",
    "        if (batch_idx+1) % 10 == 0:\n",
    "            print('Epoch [{}/{}], Batch [{}/{}], Discriminator Loss: {:.4f}, Generator Loss: {:.4f}'\n",
    "                  .format(epoch+1, num_epochs, batch_idx+1, num_batches, d_loss.item(), g_loss.item()))\n",
    "\n",
    "    # Generate 10,000 records after every epoch\n",
    "    with torch.no_grad():\n",
    "        z = torch.randn(10000, latent_dim).to(device)\n",
    "        c = torch.randint(0, 2, (10000, num_categories)).float().to(device)\n",
    "        fake_data = generator(z, c)\n",
    "        fake_data = fake_data.cpu().numpy()"
   ]
  },
  {
   "cell_type": "code",
   "execution_count": null,
   "metadata": {},
   "outputs": [],
   "source": []
  }
 ],
 "metadata": {
  "kernelspec": {
   "display_name": "Python 3 (ipykernel)",
   "language": "python",
   "name": "python3"
  },
  "language_info": {
   "codemirror_mode": {
    "name": "ipython",
    "version": 3
   },
   "file_extension": ".py",
   "mimetype": "text/x-python",
   "name": "python",
   "nbconvert_exporter": "python",
   "pygments_lexer": "ipython3",
   "version": "3.10.10"
  }
 },
 "nbformat": 4,
 "nbformat_minor": 4
}
