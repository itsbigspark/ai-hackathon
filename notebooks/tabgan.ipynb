{
 "cells": [
  {
   "cell_type": "markdown",
   "metadata": {},
   "source": [
    "**Warning:** you will need to do a `pip install tabgan` to help get this notebook to work.\n",
    "\n",
    "See this [GitHub repo](https://github.com/Diyago/GAN-for-tabular-data)."
   ]
  },
  {
   "cell_type": "code",
   "execution_count": null,
   "metadata": {
    "tags": []
   },
   "outputs": [],
   "source": [
    "cd ../"
   ]
  },
  {
   "cell_type": "code",
   "execution_count": null,
   "metadata": {
    "tags": []
   },
   "outputs": [],
   "source": [
    "import pandas as pd\n",
    "import torch\n",
    "import torch.nn as nn\n",
    "import torch.optim as optim\n",
    "import numpy as np\n",
    "from sklearn.preprocessing import OneHotEncoder\n",
    "from sklearn.impute import SimpleImputer\n",
    "from tabgan.sampler import OriginalGenerator, GANGenerator\n",
    "\n",
    "import seaborn as sns\n",
    "import matplotlib.pyplot as plt\n",
    "\n",
    "from data.processed.pre_process_titanic import pre_process_df\n",
    "\n",
    "%load_ext lab_black"
   ]
  },
  {
   "cell_type": "markdown",
   "metadata": {},
   "source": [
    "### Parameters"
   ]
  },
  {
   "cell_type": "code",
   "execution_count": null,
   "metadata": {
    "tags": []
   },
   "outputs": [],
   "source": [
    "TRAIN_DATA_PATH = \"data/raw/train.csv\"\n",
    "TEST_DATA_PATH = \"data/raw/test.csv\"\n",
    "NUM_COLUMNS = [\"Fare\", \"Age\"]\n",
    "LABEL = \"Survived\""
   ]
  },
  {
   "cell_type": "code",
   "execution_count": null,
   "metadata": {
    "tags": []
   },
   "outputs": [],
   "source": [
    "# CAT_COLUMNS = [f\"embarked_{c}\" for c in enc.categories_[0]]\n",
    "# COLUMNS = data.columns.tolist() + CAT_COLUMNS"
   ]
  },
  {
   "cell_type": "markdown",
   "metadata": {},
   "source": [
    "### 1. Load in the real data and prepare it"
   ]
  },
  {
   "cell_type": "code",
   "execution_count": null,
   "metadata": {},
   "outputs": [],
   "source": [
    "# Load the Titanic dataset\n",
    "train = pre_process_df(TRAIN_DATA_PATH).drop(LABEL, axis=1)\n",
    "target = pd.read_csv(TRAIN_DATA_PATH)[[LABEL]]\n",
    "test = pre_process_df(TEST_DATA_PATH)"
   ]
  },
  {
   "cell_type": "markdown",
   "metadata": {
    "tags": []
   },
   "source": [
    "### 2. Visualise the data\n",
    "\n",
    "See what the seaborn pair-plot can show for insight into the numeric feature distributions."
   ]
  },
  {
   "cell_type": "code",
   "execution_count": null,
   "metadata": {
    "tags": []
   },
   "outputs": [],
   "source": [
    "train = data[NUM_COLUMNS]"
   ]
  },
  {
   "cell_type": "code",
   "execution_count": null,
   "metadata": {
    "tags": []
   },
   "outputs": [],
   "source": [
    "sns.pairplot(data[NUM_COLUMNS])\n",
    "plt.show()"
   ]
  },
  {
   "cell_type": "code",
   "execution_count": null,
   "metadata": {
    "tags": []
   },
   "outputs": [],
   "source": [
    "sns.histplot(data[\"Age\"], label=\"Real Data\")\n",
    "plt.legend()\n",
    "plt.show()"
   ]
  },
  {
   "cell_type": "markdown",
   "metadata": {},
   "source": [
    "### 3. tabgan application"
   ]
  },
  {
   "cell_type": "code",
   "execution_count": null,
   "metadata": {
    "tags": []
   },
   "outputs": [],
   "source": [
    "DROP_COLUMNS = [\"Name\", \"Ticket\", \"Cabin\", \"PassengerId\"]"
   ]
  },
  {
   "cell_type": "code",
   "execution_count": null,
   "metadata": {
    "tags": []
   },
   "outputs": [],
   "source": [
    "train = train.drop(DROP_COLUMNS, axis=1)\n",
    "test = test.drop(DROP_COLUMNS, axis=1)"
   ]
  },
  {
   "cell_type": "code",
   "execution_count": null,
   "metadata": {},
   "outputs": [],
   "source": [
    "# Impute missing values\n",
    "imputer = SimpleImputer(strategy=\"median\")\n",
    "data = imputer.fit_transform(data)"
   ]
  },
  {
   "cell_type": "code",
   "execution_count": null,
   "metadata": {
    "tags": []
   },
   "outputs": [],
   "source": [
    "train.fillna(0, inplace=True)\n",
    "test.fillna(0, inplace=True)"
   ]
  },
  {
   "cell_type": "code",
   "execution_count": null,
   "metadata": {},
   "outputs": [],
   "source": [
    "# example with all params defined\n",
    "new_train, new_target = GANGenerator(\n",
    "    gen_x_times=100,\n",
    "    cat_cols=[\"Pclass\", \"Sex\", \"SibSp\", \"Parch\", \"Embarked\"],\n",
    "    bot_filter_quantile=0.001,\n",
    "    top_filter_quantile=0.999,\n",
    "    is_post_process=True,\n",
    "    adversarial_model_params={\n",
    "        \"metrics\": \"AUC\",\n",
    "        \"max_depth\": 2,\n",
    "        \"max_bin\": 100,\n",
    "        \"learning_rate\": 0.02,\n",
    "        \"random_state\": 42,\n",
    "        \"n_estimators\": 500,\n",
    "    },\n",
    "    pregeneration_frac=2,\n",
    "    only_generated_data=False,\n",
    "    gan_params={\n",
    "        \"batch_size\": 500,\n",
    "        \"patience\": 25,\n",
    "        \"epochs\": 500,\n",
    "    },\n",
    ").generate_data_pipe(\n",
    "    train, target, test, deep_copy=True, only_adversarial=False, use_adversarial=True\n",
    ")"
   ]
  },
  {
   "cell_type": "code",
   "execution_count": null,
   "metadata": {
    "tags": []
   },
   "outputs": [],
   "source": [
    "new_train1, new_target1 = OriginalGenerator(gen_x_times=1.5).generate_data_pipe(\n",
    "    train,\n",
    "    target,\n",
    "    test,\n",
    ")"
   ]
  },
  {
   "cell_type": "code",
   "execution_count": null,
   "metadata": {
    "tags": []
   },
   "outputs": [],
   "source": [
    "new_train1"
   ]
  },
  {
   "cell_type": "markdown",
   "metadata": {
    "tags": []
   },
   "source": [
    "### Comparing the real and fake data distributions"
   ]
  },
  {
   "cell_type": "code",
   "execution_count": null,
   "metadata": {
    "tags": []
   },
   "outputs": [],
   "source": [
    "real_df = pd.DataFrame(real_features, columns = NUM_COLUMNS)\n",
    "fake_df = pd.DataFrame(fake_features, columns = NUM_COLUMNS)"
   ]
  },
  {
   "cell_type": "code",
   "execution_count": null,
   "metadata": {
    "tags": []
   },
   "outputs": [],
   "source": [
    "# Normalize the data\n",
    "fake_data = (fake_data - np.mean(data, axis=0)) / np.std(fake_data, axis=0)"
   ]
  },
  {
   "cell_type": "code",
   "execution_count": null,
   "metadata": {},
   "outputs": [],
   "source": [
    "fig = plt.figure()\n",
    "ax1 = fig.add_subplot(111)\n",
    "\n",
    "feature = \"Age\"\n",
    "\n",
    "sns.histplot(data[feature], label='Real Data', alpha=0.5, ax=ax1)\n",
    "sns.histplot(0.7*data[feature] + 10, label='Fake Data', alpha=0.5, ax=ax1)\n",
    "plt.legend(loc='upper left')\n",
    "plt.show()"
   ]
  },
  {
   "cell_type": "code",
   "execution_count": null,
   "metadata": {
    "tags": []
   },
   "outputs": [],
   "source": [
    "numerical_feature_means[\"Fare\"]"
   ]
  },
  {
   "cell_type": "code",
   "execution_count": null,
   "metadata": {},
   "outputs": [],
   "source": [
    "# Normalize the data\n",
    "data = (data - np.mean(data, axis=0)) / np.std(data, axis=0)"
   ]
  },
  {
   "cell_type": "code",
   "execution_count": null,
   "metadata": {
    "tags": []
   },
   "outputs": [],
   "source": [
    "for ft in NUM_COLUMNS:\n",
    "    real_df[ft] = (real_df[ft] * numerical_feature_stddev[ft]) + numerical_feature_means[ft]\n",
    "    fake_df[ft] = (fake_df[ft] * numerical_feature_stddev[ft]) + numerical_feature_means[ft]"
   ]
  },
  {
   "cell_type": "code",
   "execution_count": null,
   "metadata": {
    "tags": []
   },
   "outputs": [],
   "source": [
    "data.head()"
   ]
  },
  {
   "cell_type": "code",
   "execution_count": null,
   "metadata": {
    "tags": []
   },
   "outputs": [],
   "source": [
    "real_df.head()"
   ]
  },
  {
   "cell_type": "code",
   "execution_count": null,
   "metadata": {
    "tags": []
   },
   "outputs": [],
   "source": [
    "real_df.describe()"
   ]
  },
  {
   "cell_type": "code",
   "execution_count": null,
   "metadata": {
    "tags": []
   },
   "outputs": [],
   "source": [
    "fake_df.describe()"
   ]
  },
  {
   "cell_type": "code",
   "execution_count": null,
   "metadata": {},
   "outputs": [],
   "source": []
  }
 ],
 "metadata": {
  "kernelspec": {
   "display_name": "Python 3 (ipykernel)",
   "language": "python",
   "name": "python3"
  },
  "language_info": {
   "codemirror_mode": {
    "name": "ipython",
    "version": 3
   },
   "file_extension": ".py",
   "mimetype": "text/x-python",
   "name": "python",
   "nbconvert_exporter": "python",
   "pygments_lexer": "ipython3",
   "version": "3.10.10"
  }
 },
 "nbformat": 4,
 "nbformat_minor": 4
}
